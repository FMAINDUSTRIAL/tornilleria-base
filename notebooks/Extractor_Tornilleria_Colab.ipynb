
{
  "cells": [
    {
      "cell_type": "markdown",
      "metadata": {},
      "source": [
        "# 🔧 Extracción de Pernos y Arandelas desde un Manual PDF\n",
        "Este notebook permite subir un **manual de partes en PDF** y obtener automáticamente un listado de:\n",
        "- Pernos, tuercas, arandelas, prisioneros, pasadores\n",
        "- Con su número de parte, cantidad y características\n",
        "- Junto a la arandela compatible (si corresponde)\n",
        "\n",
        "Necesitarás subir también los archivos Excel con la base de datos técnica de tornillería."
      ]
    },
    {
      "cell_type": "code",
      "metadata": {},
      "source": [
        "# ⬆️ Subir archivos PDF y Excel\n",
        "from google.colab import files\n",
        "uploaded = files.upload()"
      ]
    },
    {
      "cell_type": "code",
      "metadata": {},
      "source": [
        "# 🧾 Cargar los Excel\n",
        "import pandas as pd\n",
        "\n",
        "df_arandelas = pd.read_excel("Pernos_Tuercas_Arandelas.xlsx", sheet_name="Arandelas")\n",
        "df_equivalencias = pd.read_excel("Pernos y tuercas en pulgadas.xlsx", sheet_name="Equivalencia", header=None)\n",
        "\n",
        "df_arandelas.head()"
      ]
    },
    {
      "cell_type": "code",
      "metadata": {},
      "source": [
        "# 📄 Extraer texto del PDF\n",
        "import fitz  # PyMuPDF\n",
        "\n",
        "manual = fitz.open("OT 14803 - Manual completo CRH450 Metso - 2022-06-06.pdf")\n",
        "texto_manual = ""\n",
        "for page in manual:\n",
        "    texto_manual += page.get_text()\n",
        "\n",
        "print(texto_manual[:2000])"
      ]
    },
    {
      "cell_type": "code",
      "metadata": {},
      "source": [
        "# 🔍 Buscar ítems de tornillería\n",
        "import re\n",
        "\n",
        "patron = re.compile(r"(?i)(perno|tuerca|arandela|pasador|prisionero).*?(\d{4} ?\d{4} ?\d{3}).*?(\d+)")\n",
        "coincidencias = patron.findall(texto_manual)\n",
        "\n",
        "resultados = []\n",
        "for match in coincidencias:\n",
        "    tipo, nro_parte, cantidad = match\n",
        "    resultados.append({"Tipo": tipo.upper(), "Nro Parte": nro_parte.replace(" ", ""), "Cantidad": int(cantidad)})\n",
        "\n",
        "df_resultado = pd.DataFrame(resultados)\n",
        "df_resultado"
      ]
    },
    {
      "cell_type": "code",
      "metadata": {},
      "source": [
        "# 🔗 Buscar arandelas compatibles\n",
        "df_arandelas['Nro Parte'] = df_arandelas['Nro Parte'].astype(str).str.replace(" ", "")\n",
        "df_final = df_resultado.merge(df_arandelas, how="left", left_on="Nro Parte", right_on="Nro Parte")\n",
        "df_final = df_final[["Tipo", "Nro Parte", "Cantidad", "Observacion"] + [col for col in df_arandelas.columns if 'mm' in col]]\n",
        "df_final"
      ]
    },
    {
      "cell_type": "code",
      "metadata": {},
      "source": [
        "# 💾 Guardar salida como Excel\n",
        "df_final.to_excel("Listado_Tornilleria_Extraido.xlsx", index=False)\n",
        "files.download("Listado_Tornilleria_Extraido.xlsx")"
      ]
    }
  ],
  "metadata": {
    "colab": {
      "provenance": [],
      "authorship_tag": "generated"
    },
    "kernelspec": {
      "name": "python3",
      "display_name": "Python 3"
    },
    "language_info": {
      "name": "python"
    }
  },
  "nbformat": 4,
  "nbformat_minor": 0
}
