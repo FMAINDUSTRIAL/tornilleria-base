{
 "cells": [
  {
   "cell_type": "markdown",
   "id": "e68f699d",
   "metadata": {},
   "source": [
    "# 📘 Extractor de Tornillería FMA\n",
    "Este notebook permite cargar un manual de partes en PDF y extraer automáticamente los pernos, tuercas y arandelas que se requieren comprar."
   ]
  },
  {
   "cell_type": "code",
   "execution_count": null,
   "id": "7db9e19d",
   "metadata": {},
   "outputs": [],
   "source": [
    "# 📁 Montar Google Drive para acceder a los archivos locales\n",
    "from google.colab import drive\n",
    "drive.mount('/content/drive')"
   ]
  },
  {
   "cell_type": "code",
   "execution_count": null,
   "id": "194759eb",
   "metadata": {},
   "outputs": [],
   "source": [
    "# 📦 Instalar dependencias necesarias\n",
    "!pip install pandas PyMuPDF openpyxl"
   ]
  },
  {
   "cell_type": "code",
   "execution_count": null,
   "id": "460eb098",
   "metadata": {},
   "outputs": [],
   "source": [
    "# 📚 Cargar base de datos de pernos y arandelas\n",
    "import pandas as pd\n",
    "\n",
    "# Ajusta las rutas si es necesario\n",
    "df_metric = pd.read_excel('/content/drive/MyDrive/tornilleria-base/data/Pernos, Tuercas, Arandelas.xlsx')\n",
    "df_imperial = pd.read_excel('/content/drive/MyDrive/tornilleria-base/data/Pernos y tuercas en pulgadas.xlsx')\n",
    "\n",
    "print(\"📏 Base de datos (métrica):\", df_metric.shape)\n",
    "print(\"📐 Base de datos (imperial):\", df_imperial.shape)"
   ]
  },
  {
   "cell_type": "code",
   "execution_count": null,
   "id": "cc9d4416",
   "metadata": {},
   "outputs": [],
   "source": [
    "# 📄 Cargar PDF del manual de usuario\n",
    "import fitz  # PyMuPDF\n",
    "\n",
    "pdf_path = '/content/drive/MyDrive/tornilleria-base/data/OT 14803 - Manual completo CRH450 Metso - 2022-06-06.pdf'\n",
    "\n",
    "with fitz.open(pdf_path) as doc:\n",
    "    full_text = \"\"\n",
    "    for page in doc:\n",
    "        full_text += page.get_text()\n",
    "\n",
    "print(full_text[:2000])  # Solo muestra los primeros caracteres para revisión"
   ]
  },
  {
   "cell_type": "code",
   "execution_count": null,
   "id": "7c762a2f",
   "metadata": {},
   "outputs": [],
   "source": [
    "# 🔍 Buscar coincidencias de pernos en el texto\n",
    "import re\n",
    "\n",
    "# Busca patrones tipo 'M12x40', '3/4\" x 2\"', etc.\n",
    "pattern_metrico = r'M\\d{1,2}x\\d{1,3}'\n",
    "pattern_pulgadas = r'\\d{1,2}/\\d{1,2}\\\"\\s*x\\s*\\d{1,2}'\n",
    "\n",
    "matches_metric = re.findall(pattern_metrico, full_text)\n",
    "matches_imperial = re.findall(pattern_pulgadas, full_text)\n",
    "\n",
    "print(\"🔧 Coincidencias métricas encontradas:\", set(matches_metric))\n",
    "print(\"🔩 Coincidencias en pulgadas encontradas:\", set(matches_imperial))"
   ]
  }
 ],
 "metadata": {},
 "nbformat": 4,
 "nbformat_minor": 5
}
