{
 "cells": [
  {
   "cell_type": "markdown",
   "id": "cf4aa105",
   "metadata": {},
   "source": [
    "# 📘 Extractor de Tornillería FMA\n",
    "Este notebook permite cargar un manual de partes en PDF y extraer automáticamente los pernos, tuercas y arandelas que se requieren comprar."
   ]
  },
  {
   "cell_type": "code",
   "execution_count": null,
   "id": "cb3917b0",
   "metadata": {},
   "outputs": [],
   "source": [
    "# ✅ Montar Google Drive para acceder a los archivos locales\n",
    "from google.colab import drive\n",
    "drive.mount('/content/drive')"
   ]
  },
  {
   "cell_type": "code",
   "execution_count": null,
   "id": "c8ceb791",
   "metadata": {},
   "outputs": [],
   "source": [
    "# 📦 Instalar dependencias necesarias\n",
    "!pip install pandas PyMuPDF openpyxl"
   ]
  },
  {
   "cell_type": "code",
   "execution_count": null,
   "id": "2ba71861",
   "metadata": {},
   "outputs": [],
   "source": [
    "# 📊 Cargar base de datos de pernos y arandelas\n",
    "import pandas as pd\n",
    "\n",
    "# Ajusta las rutas si es necesario\n",
    "df_metric = pd.read_excel('/content/drive/MyDrive/tornilleria-base/data/Pernos, Tuercas, Arandelas.xlsx')\n",
    "df_imperial = pd.read_excel('/content/drive/MyDrive/tornilleria-base/data/Pernos y tuercas en pulgadas.xlsx')\n",
    "\n",
    "print(\"📦 Base de datos (métrica):\", df_metric.shape)\n",
    "print(\"📦 Base de datos (imperial):\", df_imperial.shape)"
   ]
  },
  {
   "cell_type": "code",
   "execution_count": null,
   "id": "0593d213",
   "metadata": {},
   "outputs": [],
   "source": [
    "# 📄 Cargar PDF del manual de usuario\n",
    "import fitz  # PyMuPDF\n",
    "\n",
    "pdf_path = '/content/drive/MyDrive/tornilleria-base/data/OT 14803 - Manual completo CRH450 Metso - 2022-06-06.pdf'\n",
    "\n",
    "with fitz.open(pdf_path) as doc:\n",
    "    full_text = \"\"\n",
    "    for page in doc:\n",
    "        full_text += page.get_text()\n",
    "\n",
    "print(full_text[:2000])  # Solo muestra los primeros caracteres para revisión"
   ]
  },
  {
   "cell_type": "markdown",
   "id": "d83fe29b",
   "metadata": {},
   "source": [
    "👉 Si deseas agregar extracción de pernos específicos desde el texto, puedes usar expresiones regulares (`re.findall`) en el texto `full_text`. Si necesitas ayuda con eso, dime qué patrones deseas buscar."
   ]
  }
 ],
 "metadata": {},
 "nbformat": 4,
 "nbformat_minor": 5
}
